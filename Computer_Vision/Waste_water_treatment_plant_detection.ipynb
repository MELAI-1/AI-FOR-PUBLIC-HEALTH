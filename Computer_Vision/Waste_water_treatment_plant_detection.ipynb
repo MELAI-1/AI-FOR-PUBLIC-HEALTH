{
  "cells": [
    {
      "cell_type": "markdown",
      "metadata": {
        "id": "view-in-github",
        "colab_type": "text"
      },
      "source": [
        "<a href=\"https://colab.research.google.com/github/MELAI-1/AI-FOR-PUBLIC-HEALTH/blob/main/Computer_Vision/Waste_water_treatment_plant_detection.ipynb\" target=\"_parent\"><img src=\"https://colab.research.google.com/assets/colab-badge.svg\" alt=\"Open In Colab\"/></a>"
      ]
    },
    {
      "cell_type": "markdown",
      "metadata": {
        "id": "33SjNGARYhXE"
      },
      "source": [
        "# Water water treatment plant detection\n",
        "\n",
        "Author of this notebook: Steffen Knoblauch, Heidelberg University CC BY 4.0 Licence"
      ]
    },
    {
      "cell_type": "markdown",
      "metadata": {
        "id": "raW8OCpVoijg"
      },
      "source": [
        "# Workflow\n",
        "\n",
        "*   Install YOLOv6\n",
        "*   Inference with Pre-trained COCO Model\n",
        "*   Creating Datasets\n",
        "*   Yolov6 Annotations\n",
        "*   DATA\n",
        "*   Yolov6 Models\n",
        "*   Custom Training\n",
        "*   Evaluate YOLOv6 performance\n",
        "*   Run YOLOv6 inference on test images\n",
        "\n"
      ]
    },
    {
      "cell_type": "code",
      "execution_count": 1,
      "metadata": {
        "id": "n9bvfF-EPdZp",
        "colab": {
          "base_uri": "https://localhost:8080/"
        },
        "outputId": "9f8249e4-646c-4bd1-e9b8-21e6c728b013"
      },
      "outputs": [
        {
          "output_type": "stream",
          "name": "stdout",
          "text": [
            "Mounted at /content/drive\n"
          ]
        }
      ],
      "source": [
        "from google.colab import drive\n",
        "drive.mount('/content/drive', force_remount=True)"
      ]
    },
    {
      "cell_type": "code",
      "execution_count": null,
      "metadata": {
        "id": "oFVAZtDeF-lU"
      },
      "outputs": [],
      "source": [
        "%pwd"
      ]
    },
    {
      "cell_type": "markdown",
      "metadata": {
        "id": "tL5-3Eiipwhn"
      },
      "source": [
        "Make sure to use GPU."
      ]
    },
    {
      "cell_type": "code",
      "execution_count": null,
      "metadata": {
        "id": "Q2XyPGLzPVgh"
      },
      "outputs": [],
      "source": [
        "!nvidia-smi"
      ]
    },
    {
      "cell_type": "code",
      "execution_count": null,
      "metadata": {
        "id": "TmwqU82gPVoi"
      },
      "outputs": [],
      "source": [
        "import os\n",
        "HOME = os.getcwd()\n",
        "print(HOME)"
      ]
    },
    {
      "cell_type": "code",
      "execution_count": null,
      "metadata": {
        "colab": {
          "base_uri": "https://localhost:8080/"
        },
        "id": "VsOs-nVqHMlS",
        "outputId": "64033d12-6860-4d06-93ef-2051c75a97dd"
      },
      "outputs": [
        {
          "output_type": "stream",
          "name": "stdout",
          "text": [
            "\u001b[0m\u001b[01;34mdrive\u001b[0m/  \u001b[01;34msample_data\u001b[0m/\n"
          ]
        }
      ],
      "source": [
        "%ls"
      ]
    },
    {
      "cell_type": "markdown",
      "metadata": {
        "id": "xEEUwRzMq21b"
      },
      "source": [
        "# Download MT-YOLOv6 repository and install requirements\n"
      ]
    },
    {
      "cell_type": "code",
      "execution_count": null,
      "metadata": {
        "id": "X-YYjaZCPVrk"
      },
      "outputs": [],
      "source": [
        "# Download MT-YOLOv6 repository and install requirements\n",
        "!git clone https://github.com/meituan/YOLOv6\n",
        "%cd YOLOv6\n"
      ]
    },
    {
      "cell_type": "code",
      "execution_count": null,
      "metadata": {
        "id": "zzqtaUGgPVu0"
      },
      "outputs": [],
      "source": [
        "!pip install -r requirements.txt"
      ]
    },
    {
      "cell_type": "markdown",
      "metadata": {
        "id": "H_MdkQVjV4q3"
      },
      "source": [
        "#Inference with Pre-trained COCO Model\n",
        "\n",
        "\n",
        "Make sure to check your current working directory using the command"
      ]
    },
    {
      "cell_type": "code",
      "execution_count": null,
      "metadata": {
        "colab": {
          "base_uri": "https://localhost:8080/",
          "height": 35
        },
        "id": "_5NgILh9V32a",
        "outputId": "5356eb7f-a843-4320-b1c5-32b1ddab6978"
      },
      "outputs": [
        {
          "output_type": "execute_result",
          "data": {
            "text/plain": [
              "'/content/YOLOv6'"
            ],
            "application/vnd.google.colaboratory.intrinsic+json": {
              "type": "string"
            }
          },
          "metadata": {},
          "execution_count": 22
        }
      ],
      "source": [
        "pwd"
      ]
    },
    {
      "cell_type": "markdown",
      "metadata": {
        "id": "t1VRAtkRWBXY"
      },
      "source": [
        "My current working directory is /content/YOLOv6 and the drive is mounted at /content/drive. So to access the dataset, you have to start from /content/drive which is the drive."
      ]
    },
    {
      "cell_type": "markdown",
      "metadata": {
        "id": "A0fOQT7JZpWs"
      },
      "source": [
        "First, lets create a weights directory inside the current YOLOv6 directory and then download a pretrained model from the YOLOv6 release. The command \"mkdir\" creates a new directory in the current working directory."
      ]
    },
    {
      "cell_type": "code",
      "execution_count": null,
      "metadata": {
        "id": "IwlFJOiCUKun"
      },
      "outputs": [],
      "source": [
        "%mkdir weights\n",
        "%cd weights\n",
        "!wget https://github.com/meituan/YOLOv6/releases/download/0.4.0/yolov6s.pt"
      ]
    },
    {
      "cell_type": "code",
      "execution_count": null,
      "metadata": {
        "colab": {
          "base_uri": "https://localhost:8080/"
        },
        "id": "6rz5LAkmVxqr",
        "outputId": "2e1f9093-2c22-498d-f5a0-3633aa93553c"
      },
      "outputs": [
        {
          "output_type": "stream",
          "name": "stdout",
          "text": [
            "yolov6s.pt  yolov6s.pt.1\n"
          ]
        }
      ],
      "source": [
        "%ls"
      ]
    },
    {
      "cell_type": "code",
      "execution_count": null,
      "metadata": {
        "id": "pUqjv2gT70ob"
      },
      "outputs": [],
      "source": [
        "%cp -r /content/drive/MyDrive/YOLOv6_exercise/custom_dataset /content/YOLOv6/custom_dataset"
      ]
    },
    {
      "cell_type": "code",
      "execution_count": null,
      "metadata": {
        "colab": {
          "base_uri": "https://localhost:8080/"
        },
        "id": "w-xcZ2XNpzNQ",
        "outputId": "3b0b5899-ef0a-4a18-9d57-8ddb67d95f74"
      },
      "outputs": [
        {
          "output_type": "stream",
          "name": "stdout",
          "text": [
            "/content/YOLOv6/weights\n"
          ]
        }
      ],
      "source": [
        "!pwd"
      ]
    },
    {
      "cell_type": "code",
      "execution_count": null,
      "metadata": {
        "id": "wi07WMwEwEmH"
      },
      "outputs": [],
      "source": [
        "%cd /content/YOLOv6\n",
        "!python tools/train.py --batch 16 --conf configs/yolov6s_finetune.py --data data/dataset.yaml --fuse_ab --epochs 1 --img-size 256 --device 0"
      ]
    },
    {
      "cell_type": "code",
      "execution_count": null,
      "metadata": {
        "id": "YdjC0pQ0vRLa"
      },
      "outputs": [],
      "source": [
        "#lets try with batch size 32 instead of 16\n",
        "%cd /content/YOLOv6\n",
        "!python tools/train.py --batch 32 --conf configs/yolov6s_finetune.py --data data/dataset.yaml --fuse_ab --epochs 10 --img-size 256 --device 0"
      ]
    },
    {
      "cell_type": "markdown",
      "metadata": {
        "id": "cHVha4oPK_Ec"
      },
      "source": [
        "Note that can adjusting the default\n",
        "epochs to expedite results. The image size could also be adjusted to increase training speed.\n",
        "\n",
        "Note that adjusting parameters like lower batch size can also help with low memory."
      ]
    },
    {
      "cell_type": "markdown",
      "metadata": {
        "id": "dz4Q2Mc9LOQI"
      },
      "source": [
        "#Evaulate YOLOv6 Model Performance\n",
        "\n",
        "YOLOv6 comes with a tools directory, one of which is for evaluation of model training. Evaluating the model's performance includes assessing the model's mean average precision (mAP), precision, and recall. For the uninitiated, a higher mAP score indicates our model is drawing the correct boxes in the right places.\n",
        "\n",
        "Similar to the training argument, we do have parameters we can adjust for how we evaluate the model (like specifying confidence thresholds or modifying where the results are saved).\n",
        "\n",
        "\n",
        "*  --data, type=str, default='./data/coco.yaml', help='dataset.yaml path')\n",
        "*   -weights, type=str, default='./weights/yolov6s.pt', help='model.pt path(s)')\n",
        "*  --batch-size, type=int, default=32, help='batch size')\n",
        "*   --img-size, type=int, default=640, help='inference size (pixels)')\n",
        "*  --conf-thres, type=float, default=0.001, help='confidence threshold')\n",
        "*   --iou-thres, type=float, default=0.65, help='NMS IoU threshold')\n",
        "*   --task, default='val', help='val, or speed')\n",
        "*   --device, default='0', help='cuda device, i.e. 0 or 0,1,2,3 or cpu')\n",
        "*   --half, default=False, action='store_true', help='whether to use fp16 infer')\n",
        "*   --save_dir, type=str, default='runs/val/', help='evaluation save dir')\n",
        "*   -name, type=str, default='exp', help='save evaluation results to save_dir/name')\n",
        "\n",
        "The evaluation command we'll run is:\n",
        "\n"
      ]
    },
    {
      "cell_type": "code",
      "execution_count": null,
      "metadata": {
        "id": "IOv1WQjTwEpM"
      },
      "outputs": [],
      "source": [
        "%cd /content/YOLOv6\n",
        "#make sure to enter the correct path to the best_ckpt.pt\n",
        "!python tools/eval.py --data data/dataset.yaml  --weights runs/train/exp1/weights/best_ckpt.pt --img-size 256 --do_pr_metric True --plot_confusion_matrix --task val --device 0\n"
      ]
    },
    {
      "cell_type": "code",
      "execution_count": null,
      "metadata": {
        "id": "eywSiCaj0Pci"
      },
      "outputs": [],
      "source": [
        "#Try out and anylze what happens when we change the iou_threshold to other values (instead of the default 0.65 - e.g. 0.35) What would you expect to change?\n",
        "\n",
        "%cd /content/YOLOv6\n",
        "#make sure to enter the correct path to the best_ckpt.pt\n",
        "!python tools/eval.py --data data/dataset.yaml  --weights runs/train/exp1/weights/best_ckpt.pt --iou-thres 0.35 --img-size 256 --do_pr_metric True --plot_confusion_matrix --task val --device 0"
      ]
    },
    {
      "cell_type": "markdown",
      "metadata": {
        "id": "u49lKG5wMJ2G"
      },
      "source": [
        "#Inference Yolov6 on Test dataset\n",
        "\n",
        "Similar to YOLOv6 evaluation, there's an inference script that comes with the repository's tools. We had tested this our before. This inference script allows us to pass a batch of images in a given directory on which the model will run its predictions.\n",
        "\n",
        "In addition, this inference utility also comes with a number of arguments we can pass for things like displaying the labels on the predicted images (which is on by default), modifying the confidence level and NMS thresholds, and setting max detections.\n",
        "\n",
        "--weights, type=str, default='weights/yolov6s.pt', help='model path(s) for inference.')\n",
        "\n",
        "--source, type=str, default='data/images', help='the source path, e.g. image-file/dir.')\n",
        "\n",
        "--yaml, type=str, default='data/coco.yaml', help='data yaml file.')\n",
        "\n",
        "--img-size, type=int, default=640, help='the image-size(h,w) in inference size.')\n",
        "\n",
        "--conf-thres, type=float, default=0.25, help='confidence threshold for inference.')\n",
        "\n",
        "--iou-thres, type=float, default=0.45, help='NMS IoU threshold for inference.')\n",
        "\n",
        "--max-det, type=int, default=1000, help='maximal inferences per image.')\n",
        "\n",
        "--device, default='0', help='device to run our model i.e. 0 or 0,1,2,3 or cpu.')\n",
        "\n",
        "--save-txt, action='store_true', help='save results to *.txt.')\n",
        "\n",
        "--save-img, action='store_false', help='save visuallized inference results.')\n",
        "\n",
        "--classes, nargs='+', type=int, help='filter by classes, e.g. --classes 0, or --classes 0 2 3.')\n",
        "\n",
        "--agnostic-nms, action='store_true', help='class-agnostic NMS.')\n",
        "\n",
        "--project, default='runs/inference', help='save inference results to project/name.')\n",
        "\n",
        "-name, default='exp', help='save inference results to project/name.')\n",
        "\n",
        "--hide-labels, default=False, action='store_true', help='hide labels.')\n",
        "\n",
        "--hide-conf, default=False, action='store_true', help='hide confidences.')\n",
        "\n",
        "--half, action='store_true', help='whether to use FP16 half-precision inference.')\n",
        "\n",
        "We'll run this command:\n",
        "\n"
      ]
    },
    {
      "cell_type": "code",
      "execution_count": null,
      "metadata": {
        "id": "EBsmYBs7Mdg2"
      },
      "outputs": [],
      "source": [
        "%cd /content/YOLOv6\n",
        "!python tools/infer.py --yaml data/dataset.yaml --weights runs/train/exp1/weights/last_ckpt.pt --source custom_dataset/images/val --img-size 256 256  --project 'runs/inference/wastewater' --hide-labels --device 0\n"
      ]
    }
  ],
  "metadata": {
    "accelerator": "GPU",
    "colab": {
      "gpuType": "T4",
      "provenance": [],
      "include_colab_link": true
    },
    "kernelspec": {
      "display_name": "Python 3",
      "name": "python3"
    },
    "language_info": {
      "name": "python"
    }
  },
  "nbformat": 4,
  "nbformat_minor": 0
}